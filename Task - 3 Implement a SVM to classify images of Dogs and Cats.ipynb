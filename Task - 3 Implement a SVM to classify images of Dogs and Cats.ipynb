{
 "cells": [
  {
   "cell_type": "code",
   "execution_count": 1,
   "id": "b78dd65d",
   "metadata": {
    "execution": {
     "iopub.execute_input": "2023-08-20T03:12:42.332510Z",
     "iopub.status.busy": "2023-08-20T03:12:42.332140Z",
     "iopub.status.idle": "2023-08-20T03:12:53.148317Z",
     "shell.execute_reply": "2023-08-20T03:12:53.147076Z",
     "shell.execute_reply.started": "2023-08-20T03:12:42.332475Z"
    }
   },
   "outputs": [],
   "source": [
    "# extract dataset\n",
    "from zipfile import ZipFile\n",
    "\n",
    "dataset_train = \"train.zip\"\n",
    "    \n",
    "with ZipFile(dataset_train, 'r') as zip:\n",
    "    zip.extractall()"
   ]
  },
  {
   "cell_type": "code",
   "execution_count": 2,
   "id": "c82c808c",
   "metadata": {
    "execution": {
     "iopub.execute_input": "2023-08-20T03:12:53.150275Z",
     "iopub.status.busy": "2023-08-20T03:12:53.150012Z",
     "iopub.status.idle": "2023-08-20T03:12:54.262650Z",
     "shell.execute_reply": "2023-08-20T03:12:54.261537Z",
     "shell.execute_reply.started": "2023-08-20T03:12:53.150252Z"
    }
   },
   "outputs": [
    {
     "name": "stderr",
     "output_type": "stream",
     "text": [
      "/opt/conda/lib/python3.10/site-packages/scipy/__init__.py:146: UserWarning: A NumPy version >=1.16.5 and <1.23.0 is required for this version of SciPy (detected version 1.23.5\n",
      "  warnings.warn(f\"A NumPy version >={np_minversion} and <{np_maxversion}\"\n"
     ]
    }
   ],
   "source": [
    "import os\n",
    "import numpy as np\n",
    "from sklearn.svm import SVC\n",
    "from sklearn.metrics import classification_report, confusion_matrix\n",
    "import matplotlib.pyplot as plt\n",
    "from tqdm import tqdm\n",
    "import joblib\n",
    "from sklearn.model_selection import GridSearchCV\n",
    "import cv2\n",
    "import seaborn as sns\n",
    "import time\n",
    "from sklearn.decomposition import PCA\n",
    "from sklearn.pipeline import Pipeline\n",
    "from sklearn.model_selection import train_test_split"
   ]
  },
  {
   "cell_type": "code",
   "execution_count": 3,
   "id": "a05d4ec3",
   "metadata": {
    "execution": {
     "iopub.execute_input": "2023-08-20T03:12:54.265648Z",
     "iopub.status.busy": "2023-08-20T03:12:54.264707Z",
     "iopub.status.idle": "2023-08-20T03:12:54.272046Z",
     "shell.execute_reply": "2023-08-20T03:12:54.270860Z",
     "shell.execute_reply.started": "2023-08-20T03:12:54.265621Z"
    }
   },
   "outputs": [],
   "source": [
    "folder_path = f\"Dataset/\"\n",
    "os.makedirs(folder_path, exist_ok=True)\n",
    "\n",
    "# define path\n",
    "confusion_image_path = os.path.join(folder_path, 'confusion matrix.png')\n",
    "classification_file_path = os.path.join(folder_path, 'classification_report.txt')\n",
    "model_file_path = os.path.join(folder_path, \"svm_model.pkl\")\n",
    "\n",
    "# Path dataset\n",
    "dataset_dir = \"Dataset/\"\n",
    "train_dir = os.path.join(dataset_dir, \"train\")\n",
    "test_dir = os.path.join(dataset_dir, \"test1\")"
   ]
  },
  {
   "cell_type": "code",
   "execution_count": 4,
   "id": "8335a27a",
   "metadata": {
    "execution": {
     "iopub.execute_input": "2023-08-20T03:12:54.274789Z",
     "iopub.status.busy": "2023-08-20T03:12:54.274491Z",
     "iopub.status.idle": "2023-08-20T03:13:37.706207Z",
     "shell.execute_reply": "2023-08-20T03:13:37.704830Z",
     "shell.execute_reply.started": "2023-08-20T03:12:54.274764Z"
    }
   },
   "outputs": [
    {
     "name": "stderr",
     "output_type": "stream",
     "text": [
      "Processing Train Images: 100%|██████████| 25000/25000 [00:43<00:00, 575.99it/s]\n"
     ]
    }
   ],
   "source": [
    "# load data, preprocessing data, and labeling\n",
    "# dog = 1, cat = 0\n",
    "train_images = os.listdir(train_dir)\n",
    "features = []\n",
    "labels = []\n",
    "image_size = (50, 50)\n",
    "\n",
    "# Proses train images\n",
    "for image in tqdm(train_images, desc=\"Processing Train Images\"):\n",
    "    if image[0:3] == 'cat' :\n",
    "        label = 0\n",
    "    else :\n",
    "        label = 1\n",
    "    image_read = cv2.imread(train_dir+\"/\"+image)\n",
    "    image_resized = cv2.resize(image_read, image_size)\n",
    "    image_normalized = image_resized / 255.0\n",
    "    image_flatten = image_normalized.flatten()\n",
    "    features.append(image_flatten)\n",
    "    labels.append(label)"
   ]
  },
  {
   "cell_type": "code",
   "execution_count": 5,
   "id": "054b7066",
   "metadata": {
    "execution": {
     "iopub.execute_input": "2023-08-20T03:13:37.708409Z",
     "iopub.status.busy": "2023-08-20T03:13:37.707687Z",
     "iopub.status.idle": "2023-08-20T03:13:37.713697Z",
     "shell.execute_reply": "2023-08-20T03:13:37.712263Z",
     "shell.execute_reply.started": "2023-08-20T03:13:37.708378Z"
    }
   },
   "outputs": [],
   "source": [
    "del train_images"
   ]
  },
  {
   "cell_type": "code",
   "execution_count": 6,
   "id": "a646d9a0",
   "metadata": {
    "execution": {
     "iopub.execute_input": "2023-08-20T03:13:37.715013Z",
     "iopub.status.busy": "2023-08-20T03:13:37.714768Z",
     "iopub.status.idle": "2023-08-20T03:13:38.099819Z",
     "shell.execute_reply": "2023-08-20T03:13:38.099179Z",
     "shell.execute_reply.started": "2023-08-20T03:13:37.714989Z"
    }
   },
   "outputs": [],
   "source": [
    "features = np.asarray(features)\n",
    "labels = np.asarray(labels)\n",
    "\n",
    "# train test split\n",
    "X_train, X_test, y_train, y_test = train_test_split(features, labels, test_size=0.2, shuffle=True, random_state=42)"
   ]
  },
  {
   "cell_type": "code",
   "execution_count": 7,
   "id": "44762227",
   "metadata": {
    "execution": {
     "iopub.execute_input": "2023-08-20T03:13:38.101147Z",
     "iopub.status.busy": "2023-08-20T03:13:38.100790Z",
     "iopub.status.idle": "2023-08-20T03:13:38.106441Z",
     "shell.execute_reply": "2023-08-20T03:13:38.105829Z",
     "shell.execute_reply.started": "2023-08-20T03:13:38.101126Z"
    }
   },
   "outputs": [],
   "source": [
    "del features\n",
    "del labels"
   ]
  },
  {
   "cell_type": "code",
   "execution_count": 8,
   "id": "fd8f10c8",
   "metadata": {
    "execution": {
     "iopub.execute_input": "2023-08-20T03:13:38.107720Z",
     "iopub.status.busy": "2023-08-20T03:13:38.107355Z",
     "iopub.status.idle": "2023-08-20T03:13:38.120180Z",
     "shell.execute_reply": "2023-08-20T03:13:38.119086Z",
     "shell.execute_reply.started": "2023-08-20T03:13:38.107700Z"
    }
   },
   "outputs": [],
   "source": [
    "# PCA, SVM, & Pipeline\n",
    "n_components = 0.8\n",
    "pca = PCA(n_components=n_components)\n",
    "svm = SVC()\n",
    "pca = PCA(n_components=n_components, random_state=42)\n",
    "pipeline = Pipeline([\n",
    "    ('pca', pca),\n",
    "    ('svm', svm)\n",
    "])"
   ]
  },
  {
   "cell_type": "code",
   "execution_count": 9,
   "id": "d8d3d9ff",
   "metadata": {
    "execution": {
     "iopub.execute_input": "2023-08-20T03:13:38.121825Z",
     "iopub.status.busy": "2023-08-20T03:13:38.121564Z",
     "iopub.status.idle": "2023-08-20T03:13:38.135062Z",
     "shell.execute_reply": "2023-08-20T03:13:38.134296Z",
     "shell.execute_reply.started": "2023-08-20T03:13:38.121805Z"
    }
   },
   "outputs": [],
   "source": [
    "param_grid = {\n",
    "    'pca__n_components': [2, 1, 0.9, 0.8],\n",
    "    'svm__kernel': ['linear', 'rbf', 'poly', 'sigmoid'],\n",
    "}"
   ]
  },
  {
   "cell_type": "code",
   "execution_count": 10,
   "id": "3f6fadca",
   "metadata": {
    "execution": {
     "iopub.execute_input": "2023-08-20T03:13:38.138198Z",
     "iopub.status.busy": "2023-08-20T03:13:38.137408Z",
     "iopub.status.idle": "2023-08-20T05:35:44.898617Z",
     "shell.execute_reply": "2023-08-20T05:35:44.895939Z",
     "shell.execute_reply.started": "2023-08-20T03:13:38.138174Z"
    }
   },
   "outputs": [
    {
     "name": "stdout",
     "output_type": "stream",
     "text": [
      "Fitting 3 folds for each of 16 candidates, totalling 48 fits\n",
      "[CV 1/3] END pca__n_components=2, svm__kernel=linear;, score=0.527 total time=  16.8s\n",
      "[CV 2/3] END pca__n_components=2, svm__kernel=linear;, score=0.533 total time=  15.6s\n",
      "[CV 3/3] END pca__n_components=2, svm__kernel=linear;, score=0.530 total time=  16.2s\n",
      "[CV 1/3] END pca__n_components=2, svm__kernel=rbf;, score=0.566 total time=  12.9s\n",
      "[CV 2/3] END pca__n_components=2, svm__kernel=rbf;, score=0.573 total time=  12.8s\n",
      "[CV 3/3] END pca__n_components=2, svm__kernel=rbf;, score=0.565 total time=  12.6s\n",
      "[CV 1/3] END pca__n_components=2, svm__kernel=poly;, score=0.496 total time=  11.2s\n",
      "[CV 2/3] END pca__n_components=2, svm__kernel=poly;, score=0.512 total time=  11.3s\n",
      "[CV 3/3] END pca__n_components=2, svm__kernel=poly;, score=0.496 total time=  11.2s\n",
      "[CV 1/3] END pca__n_components=2, svm__kernel=sigmoid;, score=0.501 total time=  13.1s\n",
      "[CV 2/3] END pca__n_components=2, svm__kernel=sigmoid;, score=0.509 total time=  12.0s\n",
      "[CV 3/3] END pca__n_components=2, svm__kernel=sigmoid;, score=0.498 total time=  14.0s\n",
      "[CV 1/3] END pca__n_components=1, svm__kernel=linear;, score=0.519 total time=  12.1s\n",
      "[CV 2/3] END pca__n_components=1, svm__kernel=linear;, score=0.518 total time=  11.3s\n",
      "[CV 3/3] END pca__n_components=1, svm__kernel=linear;, score=0.514 total time=  11.8s\n",
      "[CV 1/3] END pca__n_components=1, svm__kernel=rbf;, score=0.531 total time=  12.8s\n",
      "[CV 2/3] END pca__n_components=1, svm__kernel=rbf;, score=0.530 total time=  12.6s\n",
      "[CV 3/3] END pca__n_components=1, svm__kernel=rbf;, score=0.532 total time=  13.3s\n",
      "[CV 1/3] END pca__n_components=1, svm__kernel=poly;, score=0.499 total time=  10.7s\n",
      "[CV 2/3] END pca__n_components=1, svm__kernel=poly;, score=0.503 total time=  10.1s\n",
      "[CV 3/3] END pca__n_components=1, svm__kernel=poly;, score=0.499 total time=  10.7s\n",
      "[CV 1/3] END pca__n_components=1, svm__kernel=sigmoid;, score=0.506 total time=  11.3s\n",
      "[CV 2/3] END pca__n_components=1, svm__kernel=sigmoid;, score=0.507 total time=  11.1s\n",
      "[CV 3/3] END pca__n_components=1, svm__kernel=sigmoid;, score=0.506 total time=  11.2s\n",
      "[CV 1/3] END pca__n_components=0.9, svm__kernel=linear;, score=0.608 total time=14.6min\n",
      "[CV 2/3] END pca__n_components=0.9, svm__kernel=linear;, score=0.606 total time=14.6min\n",
      "[CV 3/3] END pca__n_components=0.9, svm__kernel=linear;, score=0.605 total time=17.6min\n",
      "[CV 1/3] END pca__n_components=0.9, svm__kernel=rbf;, score=0.674 total time= 4.4min\n",
      "[CV 2/3] END pca__n_components=0.9, svm__kernel=rbf;, score=0.680 total time= 4.4min\n",
      "[CV 3/3] END pca__n_components=0.9, svm__kernel=rbf;, score=0.673 total time= 4.3min\n",
      "[CV 1/3] END pca__n_components=0.9, svm__kernel=poly;, score=0.606 total time= 4.4min\n",
      "[CV 2/3] END pca__n_components=0.9, svm__kernel=poly;, score=0.610 total time= 4.6min\n",
      "[CV 3/3] END pca__n_components=0.9, svm__kernel=poly;, score=0.605 total time= 4.5min\n",
      "[CV 1/3] END pca__n_components=0.9, svm__kernel=sigmoid;, score=0.521 total time= 3.8min\n",
      "[CV 2/3] END pca__n_components=0.9, svm__kernel=sigmoid;, score=0.516 total time= 3.8min\n",
      "[CV 3/3] END pca__n_components=0.9, svm__kernel=sigmoid;, score=0.521 total time= 3.9min\n",
      "[CV 1/3] END pca__n_components=0.8, svm__kernel=linear;, score=0.587 total time= 5.5min\n",
      "[CV 2/3] END pca__n_components=0.8, svm__kernel=linear;, score=0.587 total time= 5.3min\n",
      "[CV 3/3] END pca__n_components=0.8, svm__kernel=linear;, score=0.589 total time= 5.2min\n",
      "[CV 1/3] END pca__n_components=0.8, svm__kernel=rbf;, score=0.663 total time= 3.5min\n",
      "[CV 2/3] END pca__n_components=0.8, svm__kernel=rbf;, score=0.668 total time= 3.5min\n",
      "[CV 3/3] END pca__n_components=0.8, svm__kernel=rbf;, score=0.659 total time= 3.4min\n",
      "[CV 1/3] END pca__n_components=0.8, svm__kernel=poly;, score=0.597 total time= 3.4min\n",
      "[CV 2/3] END pca__n_components=0.8, svm__kernel=poly;, score=0.606 total time= 3.4min\n",
      "[CV 3/3] END pca__n_components=0.8, svm__kernel=poly;, score=0.592 total time= 3.4min\n",
      "[CV 1/3] END pca__n_components=0.8, svm__kernel=sigmoid;, score=0.517 total time= 3.4min\n",
      "[CV 2/3] END pca__n_components=0.8, svm__kernel=sigmoid;, score=0.516 total time= 3.4min\n",
      "[CV 3/3] END pca__n_components=0.8, svm__kernel=sigmoid;, score=0.520 total time= 3.3min\n"
     ]
    }
   ],
   "source": [
    "# Hitung waktu training\n",
    "start_time = time.time()\n",
    "\n",
    "grid_search = GridSearchCV(pipeline, param_grid, cv=3, verbose=4)\n",
    "grid_search.fit(X_train, y_train)\n",
    "\n",
    "# Hitung waktu training\n",
    "end_time = time.time()"
   ]
  },
  {
   "cell_type": "code",
   "execution_count": 11,
   "id": "738e3df2",
   "metadata": {
    "execution": {
     "iopub.execute_input": "2023-08-20T05:35:44.902750Z",
     "iopub.status.busy": "2023-08-20T05:35:44.902002Z",
     "iopub.status.idle": "2023-08-20T05:35:44.909483Z",
     "shell.execute_reply": "2023-08-20T05:35:44.908111Z",
     "shell.execute_reply.started": "2023-08-20T05:35:44.902677Z"
    }
   },
   "outputs": [],
   "source": [
    "del X_train\n",
    "del y_train"
   ]
  },
  {
   "cell_type": "code",
   "execution_count": 12,
   "id": "75a48001",
   "metadata": {
    "execution": {
     "iopub.execute_input": "2023-08-20T05:35:44.911881Z",
     "iopub.status.busy": "2023-08-20T05:35:44.911457Z",
     "iopub.status.idle": "2023-08-20T05:35:44.934019Z",
     "shell.execute_reply": "2023-08-20T05:35:44.933144Z",
     "shell.execute_reply.started": "2023-08-20T05:35:44.911834Z"
    }
   },
   "outputs": [
    {
     "name": "stdout",
     "output_type": "stream",
     "text": [
      "Best Parameters:  {'pca__n_components': 0.9, 'svm__kernel': 'rbf'}\n",
      "Best Score:  0.6756998783724181\n"
     ]
    }
   ],
   "source": [
    "# Mendapatkan model terbaik dan parameter terbaik\n",
    "best_pipeline = grid_search.best_estimator_\n",
    "best_params = grid_search.best_params_\n",
    "best_score = grid_search.best_score_\n",
    "\n",
    "print(\"Best Parameters: \", best_params)\n",
    "print(\"Best Score: \", best_score)"
   ]
  },
  {
   "cell_type": "markdown",
   "id": "468935fc",
   "metadata": {},
   "source": [
    "The grid search identified the best SVM model configuration: using 90% of principal components and the Radial Basis Function (RBF) kernel. This setup yielded an accuracy score of approximately 67.57%, demonstrating the effectiveness of these parameters in accurately classifying cats and dogs images."
   ]
  },
  {
   "cell_type": "code",
   "execution_count": 13,
   "id": "c595d007",
   "metadata": {
    "execution": {
     "iopub.execute_input": "2023-08-20T05:35:44.935898Z",
     "iopub.status.busy": "2023-08-20T05:35:44.935546Z",
     "iopub.status.idle": "2023-08-20T05:36:10.189333Z",
     "shell.execute_reply": "2023-08-20T05:36:10.187937Z",
     "shell.execute_reply.started": "2023-08-20T05:35:44.935876Z"
    }
   },
   "outputs": [
    {
     "name": "stdout",
     "output_type": "stream",
     "text": [
      "Accuracy: 0.6762\n"
     ]
    }
   ],
   "source": [
    "# Evaluation on test dataset\n",
    "accuracy = best_pipeline.score(X_test, y_test)\n",
    "print(\"Accuracy:\", accuracy)"
   ]
  },
  {
   "cell_type": "markdown",
   "id": "782958de",
   "metadata": {},
   "source": [
    "The model attained an accuracy score of approximately 67.62%, indicating its ability to correctly classify images of cats and dogs from the Kaggle dataset. This accuracy score reflects the proportion of correctly predicted classifications out of the total dataset, showcasing the model's overall performance."
   ]
  },
  {
   "cell_type": "code",
   "execution_count": 15,
   "id": "06ca62aa",
   "metadata": {
    "execution": {
     "iopub.execute_input": "2023-08-20T05:36:10.271224Z",
     "iopub.status.busy": "2023-08-20T05:36:10.270011Z",
     "iopub.status.idle": "2023-08-20T05:36:35.388213Z",
     "shell.execute_reply": "2023-08-20T05:36:35.386304Z",
     "shell.execute_reply.started": "2023-08-20T05:36:10.271169Z"
    }
   },
   "outputs": [
    {
     "name": "stdout",
     "output_type": "stream",
     "text": [
      "Classification Report:\n",
      "               precision    recall  f1-score   support\n",
      "\n",
      "         Cat       0.68      0.69      0.68      2529\n",
      "         Dog       0.68      0.66      0.67      2471\n",
      "\n",
      "    accuracy                           0.68      5000\n",
      "   macro avg       0.68      0.68      0.68      5000\n",
      "weighted avg       0.68      0.68      0.68      5000\n",
      "\n"
     ]
    }
   ],
   "source": [
    "y_pred = best_pipeline.predict(X_test)\n",
    "\n",
    "# classification report\n",
    "target_names = ['Cat', 'Dog']\n",
    "classification_rep = classification_report(y_test, y_pred, target_names=target_names)\n",
    "print(\"Classification Report:\\n\", classification_rep)\n",
    "\n",
    "with open(classification_file_path, 'w') as file:\n",
    "    file.write(classification_rep)"
   ]
  },
  {
   "cell_type": "markdown",
   "id": "d72578b8",
   "metadata": {},
   "source": [
    "In the classification report, the model achieved an overall accuracy of 68% in distinguishing between cats and dogs. With precision and recall scores around 68%, it demonstrates consistent performance in identifying both classes. The F1-score, a balanced measure of precision and recall, also hovers around 68%, indicating a well-rounded classification capability for this SVM model."
   ]
  }
 ],
 "metadata": {
  "kernelspec": {
   "display_name": "Python 3 (ipykernel)",
   "language": "python",
   "name": "python3"
  },
  "language_info": {
   "codemirror_mode": {
    "name": "ipython",
    "version": 3
   },
   "file_extension": ".py",
   "mimetype": "text/x-python",
   "name": "python",
   "nbconvert_exporter": "python",
   "pygments_lexer": "ipython3",
   "version": "3.11.4"
  }
 },
 "nbformat": 4,
 "nbformat_minor": 5
}
